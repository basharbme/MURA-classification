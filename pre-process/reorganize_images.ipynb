{
 "cells": [
  {
   "cell_type": "code",
   "execution_count": 22,
   "metadata": {},
   "outputs": [],
   "source": [
    "import pandas as pd\n",
    "#from shutil import copy\n",
    "import os\n",
    "\n",
    "import shutil\n",
    "import numpy as np\n",
    "import os\n",
    "import glob\n",
    "import errno"
   ]
  },
  {
   "cell_type": "code",
   "execution_count": 75,
   "metadata": {},
   "outputs": [],
   "source": [
    "source_path_train = \"/home/leodecio/workspace/MURA/data/MURA-v1.1/train/\"\n",
    "source_path_valid = \"/home/leodecio/workspace/MURA/data/MURA-v1.1/valid/\"\n",
    "\n",
    "path_elbow_images = \"XR_ELBOW/\"\n",
    "path_finger_images = \"XR_FINGER/\"\n",
    "path_forearm_images = \"XR_FOREARM/\"\n",
    "path_hand_images = \"XR_HAND/\"\n",
    "path_humerus_images = \"XR_HUMERUS/\"\n",
    "path_shoulder_images = \"XR_SHOULDER/\"\n",
    "path_wrist_images = \"XR_WRIST/\"\n",
    "\n",
    "output_train = \"/home/leodecio/workspace/MURA/data/train/\"\n",
    "output_valid = \"/home/leodecio/workspace/MURA/data/valid/\""
   ]
  },
  {
   "cell_type": "code",
   "execution_count": 74,
   "metadata": {},
   "outputs": [],
   "source": [
    "def getImagesFromUrl(main_folder, folder, pasta,class_):\n",
    "    if os.path.isdir(main_folder + folder):  # if path is valid\n",
    "        os.chdir(main_folder + folder)  # get in the folder\n",
    "        for file in glob.glob(\"*\"):  # for each file inside the folder\n",
    "            if os.path.isdir(main_folder + folder + file):  # if the file is a folder\n",
    "                if('positive' in file):\n",
    "                    getImagesFromUrl(main_folder, folder + file + '/', file, 'anormal')\n",
    "                elif('negative' in file):\n",
    "                    getImagesFromUrl(main_folder, folder + file + '/', file, 'normal')\n",
    "                else:\n",
    "                    # recursively get in inside the folder\n",
    "                    getImagesFromUrl(main_folder, folder + file + '/', file,\"\")\n",
    "            else:  # otherwise, the file is a handbag image\n",
    "                # if the image format has valid format\n",
    "                if((file).endswith(\".jpg\") or (file).endswith(\".png\") or (file).endswith(\".jpeg\")):\n",
    "                    #print(labels_images[class_].append(main_folder + folder + file))\n",
    "                    labels_images[class_].append(main_folder + folder + file)"
   ]
  },
  {
   "cell_type": "markdown",
   "metadata": {},
   "source": [
    "### path_wrist_images"
   ]
  },
  {
   "cell_type": "code",
   "execution_count": 70,
   "metadata": {},
   "outputs": [],
   "source": [
    "labels_images = {}\n",
    "labels_images['anormal'] = []\n",
    "labels_images['normal'] = []\n",
    "getImagesFromUrl(source_path_train, path_wrist_images, \"\", \"\")"
   ]
  },
  {
   "cell_type": "code",
   "execution_count": 72,
   "metadata": {},
   "outputs": [],
   "source": [
    "for label, images in labels_images.items():\n",
    "    count = 0\n",
    "    for img in images:\n",
    "        shutil.copy(img, output_train+ path_elbow_images +label+'/'+img[60:72]+\"_\"+str(count)+\".png\")\n",
    "        count = count+1"
   ]
  },
  {
   "cell_type": "markdown",
   "metadata": {},
   "source": [
    "### path_elbow_images"
   ]
  },
  {
   "cell_type": "code",
   "execution_count": 77,
   "metadata": {},
   "outputs": [],
   "source": [
    "path = path_elbow_images\n",
    "labels_images = {}\n",
    "labels_images['anormal'] = []\n",
    "labels_images['normal'] = []\n",
    "getImagesFromUrl(source_path_train, path, \"\", \"\")"
   ]
  },
  {
   "cell_type": "code",
   "execution_count": 78,
   "metadata": {},
   "outputs": [],
   "source": [
    "for label, images in labels_images.items():\n",
    "    count = 0\n",
    "    for img in images:\n",
    "        shutil.copy(img, output_train+ path +label+'/'+img[60:72]+\"_\"+str(count)+\".png\")\n",
    "        count = count+1"
   ]
  },
  {
   "cell_type": "markdown",
   "metadata": {},
   "source": [
    "### path_finger_images"
   ]
  },
  {
   "cell_type": "code",
   "execution_count": 79,
   "metadata": {},
   "outputs": [],
   "source": [
    "path = path_finger_images\n",
    "labels_images = {}\n",
    "labels_images['anormal'] = []\n",
    "labels_images['normal'] = []\n",
    "getImagesFromUrl(source_path_train, path, \"\", \"\")"
   ]
  },
  {
   "cell_type": "code",
   "execution_count": 80,
   "metadata": {},
   "outputs": [],
   "source": [
    "for label, images in labels_images.items():\n",
    "    count = 0\n",
    "    for img in images:\n",
    "        shutil.copy(img, output_train+ path +label+'/'+img[60:72]+\"_\"+str(count)+\".png\")\n",
    "        count = count+1"
   ]
  },
  {
   "cell_type": "markdown",
   "metadata": {},
   "source": [
    "### path_forearm_images"
   ]
  },
  {
   "cell_type": "code",
   "execution_count": 81,
   "metadata": {},
   "outputs": [],
   "source": [
    "path = path_forearm_images\n",
    "labels_images = {}\n",
    "labels_images['anormal'] = []\n",
    "labels_images['normal'] = []\n",
    "getImagesFromUrl(source_path_train, path, \"\", \"\")"
   ]
  },
  {
   "cell_type": "code",
   "execution_count": 83,
   "metadata": {},
   "outputs": [],
   "source": [
    "for label, images in labels_images.items():\n",
    "    count = 0\n",
    "    for img in images:\n",
    "        shutil.copy(img, output_train+ path +label+'/'+img[63:72]+\"_\"+str(count)+\".png\")\n",
    "        count = count+1"
   ]
  },
  {
   "cell_type": "markdown",
   "metadata": {},
   "source": [
    "### path_hand_images"
   ]
  },
  {
   "cell_type": "code",
   "execution_count": 84,
   "metadata": {},
   "outputs": [],
   "source": [
    "path = path_hand_images\n",
    "labels_images = {}\n",
    "labels_images['anormal'] = []\n",
    "labels_images['normal'] = []\n",
    "getImagesFromUrl(source_path_train, path, \"\", \"\")"
   ]
  },
  {
   "cell_type": "code",
   "execution_count": 86,
   "metadata": {},
   "outputs": [],
   "source": [
    "for label, images in labels_images.items():\n",
    "    count = 0\n",
    "    for img in images:\n",
    "        shutil.copy(img, output_train+ path +label+'/'+img[60:71]+\"_\"+str(count)+\".png\")\n",
    "        count = count+1"
   ]
  },
  {
   "cell_type": "markdown",
   "metadata": {},
   "source": [
    "### path_humerus_images"
   ]
  },
  {
   "cell_type": "code",
   "execution_count": 87,
   "metadata": {},
   "outputs": [],
   "source": [
    "path = path_humerus_images\n",
    "labels_images = {}\n",
    "labels_images['anormal'] = []\n",
    "labels_images['normal'] = []\n",
    "getImagesFromUrl(source_path_train, path, \"\", \"\")"
   ]
  },
  {
   "cell_type": "code",
   "execution_count": 92,
   "metadata": {},
   "outputs": [],
   "source": [
    "for label, images in labels_images.items():\n",
    "    count = 0\n",
    "    for img in images:\n",
    "        shutil.copy(img, output_train+ path +label+'/'+img[62:74]+\"_\"+str(count)+\".png\")\n",
    "        count = count+1"
   ]
  },
  {
   "cell_type": "markdown",
   "metadata": {},
   "source": [
    "### path_shoulder_images"
   ]
  },
  {
   "cell_type": "code",
   "execution_count": 93,
   "metadata": {},
   "outputs": [],
   "source": [
    "path = path_shoulder_images\n",
    "labels_images = {}\n",
    "labels_images['anormal'] = []\n",
    "labels_images['normal'] = []\n",
    "getImagesFromUrl(source_path_train, path, \"\", \"\")"
   ]
  },
  {
   "cell_type": "code",
   "execution_count": 95,
   "metadata": {},
   "outputs": [],
   "source": [
    "for label, images in labels_images.items():\n",
    "    count = 0\n",
    "    for img in images:\n",
    "        shutil.copy(img, output_train+ path +label+'/'+img[65:72]+\"_\"+str(count)+\".png\")\n",
    "        count = count+1"
   ]
  },
  {
   "cell_type": "code",
   "execution_count": null,
   "metadata": {},
   "outputs": [],
   "source": []
  },
  {
   "cell_type": "code",
   "execution_count": 10,
   "metadata": {},
   "outputs": [],
   "source": [
    "count = 0\n",
    "for img in images_train:\n",
    "    if('positive' in img[0]):\n",
    "        label = 'abnormal'\n",
    "    else:\n",
    "        label = 'normal'\n",
    "    \n",
    "    if 'XR_ELBOW' in img[0]:\n",
    "        path = './data/Train/XR_ELBOW/'+label+'/'\n",
    "        copy('./data/'+img[0], path+'XR_ELBOW'+'_'+str(count)+img[0][-4:])\n",
    "    elif 'XR_FINGER' in img[0]:\n",
    "        path = './data/Train/XR_FINGER/'+label+'/'\n",
    "        copy('./data/'+img[0], path+'XR_FINGER'+'_'+str(count)+img[0][-4:])\n",
    "    elif 'XR_FOREARM' in img[0]:\n",
    "        path = './data/Train/XR_FOREARM/'+label+'/'\n",
    "        copy('./data/'+img[0], path+'XR_FOREARM'+'_'+str(count)+img[0][-4:])\n",
    "    elif 'XR_HAND' in img[0]:\n",
    "        path = './data/Train/XR_HAND/'+label+'/'\n",
    "        copy('./data/'+img[0], path+'XR_HAND'+'_'+str(count)+img[0][-4:])\n",
    "    elif 'XR_HUMERUS' in img[0]:\n",
    "        path = './data/Train/XR_HUMERUS/'+label+'/'\n",
    "        copy('./data/'+img[0], path+'XR_HUMERUS'+'_'+str(count)+img[0][-4:])\n",
    "    elif 'XR_SHOULDER' in img[0]:\n",
    "        path =  './data/Train/XR_SHOULDER/'+label+'/'\n",
    "        copy('./data/'+img[0], path+'XR_SHOULDER'+'_'+str(count)+img[0][-4:])\n",
    "    elif 'XR_WRIST' in img[0]:\n",
    "        path = './data/Train/XR_WRIST/'+label+'/'\n",
    "        copy('./data/'+img[0], path+'XR_WRIST'+'_'+str(count)+img[0][-4:])\n",
    "    else:\n",
    "        print(img[0])\n",
    "    count = count+1"
   ]
  },
  {
   "cell_type": "code",
   "execution_count": 9,
   "metadata": {},
   "outputs": [
    {
     "data": {
      "text/plain": [
       "36808"
      ]
     },
     "execution_count": 9,
     "metadata": {},
     "output_type": "execute_result"
    }
   ],
   "source": [
    "len(images_train)"
   ]
  },
  {
   "cell_type": "code",
   "execution_count": 11,
   "metadata": {},
   "outputs": [
    {
     "data": {
      "text/plain": [
       "13457"
      ]
     },
     "execution_count": 11,
     "metadata": {},
     "output_type": "execute_result"
    }
   ],
   "source": [
    "8280+5177"
   ]
  },
  {
   "cell_type": "code",
   "execution_count": 15,
   "metadata": {},
   "outputs": [
    {
     "data": {
      "text/plain": [
       "8.180949781659388"
      ]
     },
     "execution_count": 15,
     "metadata": {},
     "output_type": "execute_result"
    }
   ],
   "source": [
    "(1199*100)/14656"
   ]
  }
 ],
 "metadata": {
  "kernelspec": {
   "display_name": "Python 3",
   "language": "python",
   "name": "python3"
  },
  "language_info": {
   "codemirror_mode": {
    "name": "ipython",
    "version": 3
   },
   "file_extension": ".py",
   "mimetype": "text/x-python",
   "name": "python",
   "nbconvert_exporter": "python",
   "pygments_lexer": "ipython3",
   "version": "3.7.1"
  }
 },
 "nbformat": 4,
 "nbformat_minor": 2
}
