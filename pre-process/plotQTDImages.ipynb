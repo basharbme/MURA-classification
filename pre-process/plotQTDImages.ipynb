{
 "cells": [
  {
   "cell_type": "code",
   "execution_count": 14,
   "metadata": {},
   "outputs": [],
   "source": [
    "import cv2\n",
    "import shutil\n",
    "import random\n",
    "import numpy as np\n",
    "import os, glob, errno\n",
    "import pandas as pd\n",
    "\n",
    "from matplotlib import pyplot as plt"
   ]
  },
  {
   "cell_type": "code",
   "execution_count": 15,
   "metadata": {},
   "outputs": [],
   "source": [
    "source_path = \"/home/leodecio/workspace/MURA/data/split/\"\n",
    "\n",
    "vetornames= ['XR_ELBOW','XR_FINGER','XR_FOREARM','XR_HAND','XR_HUMERUS','XR_SHOULDER','XR_WRIST']"
   ]
  },
  {
   "cell_type": "code",
   "execution_count": 18,
   "metadata": {},
   "outputs": [],
   "source": [
    "def getImageUrl(diretorio_usuario, diretorio, pasta):\n",
    "    #print(diretorio_usuario + diretorio)\n",
    "    if os.path.isdir(diretorio_usuario + diretorio):\n",
    "        os.chdir(diretorio_usuario + diretorio)\n",
    "        #print(os.path.isdir(diretorio_usuario + diretorio))\n",
    "        for arquivo in glob.glob(\"*\"):\n",
    "            if os.path.isdir(diretorio_usuario+diretorio+arquivo):\n",
    "                dicionario[arquivo] = []\n",
    "                getImageUrl(diretorio_usuario, diretorio+arquivo+'/', arquivo)\n",
    "            else:\n",
    "                if((arquivo).endswith(\".jpg\") or (arquivo).endswith(\".png\") or (arquivo).endswith(\".JPG\")):\n",
    "                    dicionario[pasta].append(diretorio_usuario+diretorio+arquivo)"
   ]
  },
  {
   "cell_type": "code",
   "execution_count": 19,
   "metadata": {},
   "outputs": [],
   "source": [
    "\n",
    "for n in vetornames:\n",
    "    name = n\n",
    "\n",
    "    path_images = \"train_split/\"+name+\"/\"\n",
    "    dicionario = {}\n",
    "    getImageUrl(source_path, path_images, \"\")\n",
    "\n",
    "    pd.to_pickle(dicionario,'/home/leodecio/workspace/MURA/data/split/train_'+name+'.pkl')"
   ]
  },
  {
   "cell_type": "code",
   "execution_count": 20,
   "metadata": {},
   "outputs": [],
   "source": [
    "os.chdir('/home/leodecio/workspace/MURA/data/split/')"
   ]
  },
  {
   "cell_type": "code",
   "execution_count": 21,
   "metadata": {},
   "outputs": [],
   "source": [
    "d0_t = np.load('./train_XR_ELBOW.pkl')\n",
    "d1_t = np.load('./train_XR_FINGER.pkl')\n",
    "d2_t = np.load('./train_XR_FOREARM.pkl')\n",
    "d3_t = np.load('./train_XR_HAND.pkl')\n",
    "d4_t = np.load('./train_XR_HUMERUS.pkl')\n",
    "d5_t = np.load('./train_XR_SHOULDER.pkl')\n",
    "d6_t = np.load('./train_XR_WRIST.pkl')"
   ]
  },
  {
   "cell_type": "code",
   "execution_count": 22,
   "metadata": {},
   "outputs": [],
   "source": [
    "normals_t = [len(d0_t['normal']),len(d1_t['normal']),len(d2_t['normal']),len(d3_t['normal']),len(d4_t['normal']),len(d5_t['normal']),len(d6_t['normal'])]\n",
    "abnormals_t = [len(d0_t['abnormal']),len(d1_t['abnormal']),len(d2_t['abnormal']),len(d3_t['abnormal']),len(d4_t['abnormal']),len(d5_t['abnormal']),len(d6_t['abnormal'])]"
   ]
  },
  {
   "cell_type": "code",
   "execution_count": 26,
   "metadata": {},
   "outputs": [
    {
     "data": {
      "text/plain": [
       "[1604, 1574, 528, 1187, 479, 3334, 3189]"
      ]
     },
     "execution_count": 26,
     "metadata": {},
     "output_type": "execute_result"
    }
   ],
   "source": [
    "abnormals_t"
   ]
  },
  {
   "cell_type": "code",
   "execution_count": 5,
   "metadata": {},
   "outputs": [
    {
     "data": {
      "text/plain": [
       "<matplotlib.legend.Legend at 0x7faa1d75ca58>"
      ]
     },
     "execution_count": 5,
     "metadata": {},
     "output_type": "execute_result"
    },
    {
     "data": {
      "image/png": "[encoded data removed]",
      "text/plain": [
       "<Figure size 432x288 with 1 Axes>"
      ]
     },
     "metadata": {
      "needs_background": "light"
     },
     "output_type": "display_data"
    }
   ],
   "source": [
    "N = len(vetornames)\n",
    "\n",
    "ind = np.arange(N)  # the x locations for the groups\n",
    "width = 0.35       # the width of the bars\n",
    "\n",
    "fig, ax = plt.subplots()\n",
    "rects1 = ax.bar(ind, normals_t, width, color='b')\n",
    "\n",
    "rects2 = ax.bar(ind + width, abnormals_t, width, color='r')\n",
    "\n",
    "# add some text for labels, title and axes ticks\n",
    "#ax.set_ylabel('Scores')\n",
    "#ax.set_title('Scores by group and gender')\n",
    "ax.set_xticks(ind + width / 2)\n",
    "ax.set_xticklabels(vetornames,rotation=90)\n",
    "\n",
    "ax.legend((rects1[0], rects2[0]), ('normal', 'anormal'))"
   ]
  },
  {
   "cell_type": "code",
   "execution_count": 8,
   "metadata": {},
   "outputs": [
    {
     "data": {
      "text/plain": [
       "<matplotlib.legend.Legend at 0x7f67432c78d0>"
      ]
     },
     "execution_count": 8,
     "metadata": {},
     "output_type": "execute_result"
    },
    {
     "data": {
      "image/png": "[encoded data removed]",
      "text/plain": [
       "<Figure size 432x288 with 1 Axes>"
      ]
     },
     "metadata": {
      "needs_background": "light"
     },
     "output_type": "display_data"
    }
   ],
   "source": [
    "N = len(vetornames)\n",
    "\n",
    "ind = np.arange(N)  # the x locations for the groups\n",
    "width = 0.35       # the width of the bars\n",
    "\n",
    "fig, ax = plt.subplots()\n",
    "rects1 = ax.bar(ind, normals_t, width, color='b')\n",
    "\n",
    "rects2 = ax.bar(ind + width, abnormals_t, width, color='r')\n",
    "\n",
    "# add some text for labels, title and axes ticks\n",
    "#ax.set_ylabel('Scores')\n",
    "#ax.set_title('Scores by group and gender')\n",
    "ax.set_xticks(ind + width / 2)\n",
    "ax.set_xticklabels(vetornames,rotation=90)\n",
    "\n",
    "ax.legend((rects1[0], rects2[0]), ('normal', 'anormal'))"
   ]
  },
  {
   "cell_type": "code",
   "execution_count": 27,
   "metadata": {},
   "outputs": [],
   "source": [
    "for n in vetornames:\n",
    "    name = n\n",
    "    path_images = \"val_split/\"+name+\"/\"\n",
    "    dicionario = {}\n",
    "    getImageUrl(source_path, path_images, \"\")\n",
    "\n",
    "    #np.save('/home/leodecio/workspace/MURA/pre-process/'+name,dicionario)\n",
    "    pd.to_pickle(dicionario,'/home/leodecio/workspace/MURA/data/split/valid_'+name+'.pkl')"
   ]
  },
  {
   "cell_type": "code",
   "execution_count": 28,
   "metadata": {},
   "outputs": [],
   "source": [
    "os.chdir('/home/leodecio/workspace/MURA/data/split/')"
   ]
  },
  {
   "cell_type": "code",
   "execution_count": 30,
   "metadata": {},
   "outputs": [],
   "source": [
    "d0_v = np.load('./valid_XR_ELBOW.pkl')\n",
    "d1_v = np.load('./valid_XR_FINGER.pkl')\n",
    "d2_v = np.load('./valid_XR_FOREARM.pkl')\n",
    "d3_v = np.load('./valid_XR_HAND.pkl')\n",
    "d4_v = np.load('./valid_XR_HUMERUS.pkl')\n",
    "d5_v = np.load('./valid_XR_SHOULDER.pkl')\n",
    "d6_v = np.load('./valid_XR_WRIST.pkl')"
   ]
  },
  {
   "cell_type": "code",
   "execution_count": 31,
   "metadata": {},
   "outputs": [],
   "source": [
    "normals_v = [len(d0_v['normal']),len(d1_v['normal']),len(d2_v['normal']),len(d3_v['normal']),len(d4_v['normal']),len(d5_v['normal']),len(d6_v['normal'])]\n",
    "abnormals_v = [len(d0_v['abnormal']),len(d1_v['abnormal']),len(d2_v['abnormal']),len(d3_v['abnormal']),len(d4_v['abnormal']),len(d5_v['abnormal']),len(d6_v['abnormal'])]"
   ]
  },
  {
   "cell_type": "code",
   "execution_count": 33,
   "metadata": {},
   "outputs": [
    {
     "data": {
      "text/plain": [
       "[585, 628, 233, 812, 135, 843, 1153]"
      ]
     },
     "execution_count": 33,
     "metadata": {},
     "output_type": "execute_result"
    }
   ],
   "source": [
    "normals_v"
   ]
  },
  {
   "cell_type": "code",
   "execution_count": 8,
   "metadata": {},
   "outputs": [
    {
     "data": {
      "text/plain": [
       "<matplotlib.legend.Legend at 0x7faa1cc92c50>"
      ]
     },
     "execution_count": 8,
     "metadata": {},
     "output_type": "execute_result"
    },
    {
     "data": {
      "image/png": "[encoded data removed]",
      "text/plain": [
       "<Figure size 432x288 with 1 Axes>"
      ]
     },
     "metadata": {
      "needs_background": "light"
     },
     "output_type": "display_data"
    }
   ],
   "source": [
    "N = len(vetornames)\n",
    "\n",
    "ind = np.arange(N)  # the x locations for the groups\n",
    "width = 0.35       # the width of the bars\n",
    "\n",
    "fig, ax = plt.subplots()\n",
    "rects1 = ax.bar(ind, normals_v, width, color='b')\n",
    "\n",
    "rects2 = ax.bar(ind + width, abnormals_v, width, color='r')\n",
    "\n",
    "# add some text for labels, title and axes ticks\n",
    "#ax.set_ylabel('Scores')\n",
    "#ax.set_title('Scores by group and gender')\n",
    "ax.set_xticks(ind + width / 2)\n",
    "ax.set_xticklabels(vetornames,rotation=90)\n",
    "\n",
    "ax.legend((rects1[0], rects2[0]), ('normal', 'anormal'))"
   ]
  },
  {
   "cell_type": "code",
   "execution_count": 15,
   "metadata": {},
   "outputs": [
    {
     "data": {
      "text/plain": [
       "<matplotlib.legend.Legend at 0x7f6743bb41d0>"
      ]
     },
     "execution_count": 15,
     "metadata": {},
     "output_type": "execute_result"
    },
    {
     "data": {
      "image/png": "[encoded data removed]",
      "text/plain": [
       "<Figure size 432x288 with 1 Axes>"
      ]
     },
     "metadata": {
      "needs_background": "light"
     },
     "output_type": "display_data"
    }
   ],
   "source": [
    "N = len(vetornames)\n",
    "\n",
    "ind = np.arange(N)  # the x locations for the groups\n",
    "width = 0.35       # the width of the bars\n",
    "\n",
    "fig, ax = plt.subplots()\n",
    "rects1 = ax.bar(ind, normals_v, width, color='b')\n",
    "\n",
    "rects2 = ax.bar(ind + width, abnormals_v, width, color='r')\n",
    "\n",
    "# add some text for labels, title and axes ticks\n",
    "#ax.set_ylabel('Scores')\n",
    "#ax.set_title('Scores by group and gender')\n",
    "ax.set_xticks(ind + width / 2)\n",
    "ax.set_xticklabels(vetornames,rotation=90)\n",
    "\n",
    "ax.legend((rects1[0], rects2[0]), ('normal', 'anormal'))"
   ]
  },
  {
   "cell_type": "code",
   "execution_count": null,
   "metadata": {},
   "outputs": [],
   "source": []
  }
 ],
 "metadata": {
  "kernelspec": {
   "display_name": "Python 3",
   "language": "python",
   "name": "python3"
  },
  "language_info": {
   "codemirror_mode": {
    "name": "ipython",
    "version": 3
   },
   "file_extension": ".py",
   "mimetype": "text/x-python",
   "name": "python",
   "nbconvert_exporter": "python",
   "pygments_lexer": "ipython3",
   "version": "3.7.1"
  }
 },
 "nbformat": 4,
 "nbformat_minor": 2
}
