{
 "cells": [
  {
   "cell_type": "code",
   "execution_count": 1,
   "metadata": {},
   "outputs": [],
   "source": [
    "import pandas as pd\n",
    "from shutil import copy\n",
    "import os"
   ]
  },
  {
   "cell_type": "code",
   "execution_count": 2,
   "metadata": {},
   "outputs": [],
   "source": [
    "valid = pd.read_csv('./data/MURA-v1.1/valid_image_paths.csv',header=None)"
   ]
  },
  {
   "cell_type": "code",
   "execution_count": 5,
   "metadata": {},
   "outputs": [
    {
     "data": {
      "text/plain": [
       "3197"
      ]
     },
     "execution_count": 5,
     "metadata": {},
     "output_type": "execute_result"
    }
   ],
   "source": [
    "len(images_valid)"
   ]
  },
  {
   "cell_type": "code",
   "execution_count": 3,
   "metadata": {},
   "outputs": [],
   "source": [
    "images_valid = valid.values #valid_.values"
   ]
  },
  {
   "cell_type": "code",
   "execution_count": 4,
   "metadata": {},
   "outputs": [],
   "source": [
    "count = 0\n",
    "for img in images_valid:\n",
    "    if('positive' in img[0]):\n",
    "        label = 'abnormal'\n",
    "    else:\n",
    "        label = 'normal'\n",
    "    \n",
    "    if 'XR_ELBOW' in img[0]:\n",
    "        path = './data/Valid/XR_ELBOW/'+label+'/'\n",
    "        copy('./data/'+img[0], path+'XR_ELBOW'+'_'+str(count)+img[0][-4:])\n",
    "    elif 'XR_FINGER' in img[0]:\n",
    "        path = './data/Valid/XR_FINGER/'+label+'/'\n",
    "        copy('./data/'+img[0], path+'XR_FINGER'+'_'+str(count)+img[0][-4:])\n",
    "    elif 'XR_FOREARM' in img[0]:\n",
    "        path = './data/Valid/XR_FOREARM/'+label+'/'\n",
    "        copy('./data/'+img[0], path+'XR_FOREARM'+'_'+str(count)+img[0][-4:])\n",
    "    elif 'XR_HAND' in img[0]:\n",
    "        path = './data/Valid/XR_HAND/'+label+'/'\n",
    "        copy('./data/'+img[0], path+'XR_HAND'+'_'+str(count)+img[0][-4:])\n",
    "    elif 'XR_HUMERUS' in img[0]:\n",
    "        path = './data/Valid/XR_HUMERUS/'+label+'/'\n",
    "        copy('./data/'+img[0], path+'XR_HUMERUS'+'_'+str(count)+img[0][-4:])\n",
    "    elif 'XR_SHOULDER' in img[0]:\n",
    "        path =  './data/Valid/XR_SHOULDER/'+label+'/'\n",
    "        copy('./data/'+img[0], path+'XR_SHOULDER'+'_'+str(count)+img[0][-4:])\n",
    "    elif 'XR_WRIST' in img[0]:\n",
    "        path = './data/Valid/XR_WRIST/'+label+'/'\n",
    "        copy('./data/'+img[0], path+'XR_WRIST'+'_'+str(count)+img[0][-4:])\n",
    "    else:\n",
    "        print(img[0])\n",
    "    count = count+1"
   ]
  },
  {
   "cell_type": "code",
   "execution_count": 7,
   "metadata": {},
   "outputs": [],
   "source": [
    "train = pd.read_csv('./data/MURA-v1.1/train_image_paths.csv',header=None)\n",
    "images_train = train.values"
   ]
  },
  {
   "cell_type": "code",
   "execution_count": 10,
   "metadata": {},
   "outputs": [],
   "source": [
    "count = 0\n",
    "for img in images_train:\n",
    "    if('positive' in img[0]):\n",
    "        label = 'abnormal'\n",
    "    else:\n",
    "        label = 'normal'\n",
    "    \n",
    "    if 'XR_ELBOW' in img[0]:\n",
    "        path = './data/Train/XR_ELBOW/'+label+'/'\n",
    "        copy('./data/'+img[0], path+'XR_ELBOW'+'_'+str(count)+img[0][-4:])\n",
    "    elif 'XR_FINGER' in img[0]:\n",
    "        path = './data/Train/XR_FINGER/'+label+'/'\n",
    "        copy('./data/'+img[0], path+'XR_FINGER'+'_'+str(count)+img[0][-4:])\n",
    "    elif 'XR_FOREARM' in img[0]:\n",
    "        path = './data/Train/XR_FOREARM/'+label+'/'\n",
    "        copy('./data/'+img[0], path+'XR_FOREARM'+'_'+str(count)+img[0][-4:])\n",
    "    elif 'XR_HAND' in img[0]:\n",
    "        path = './data/Train/XR_HAND/'+label+'/'\n",
    "        copy('./data/'+img[0], path+'XR_HAND'+'_'+str(count)+img[0][-4:])\n",
    "    elif 'XR_HUMERUS' in img[0]:\n",
    "        path = './data/Train/XR_HUMERUS/'+label+'/'\n",
    "        copy('./data/'+img[0], path+'XR_HUMERUS'+'_'+str(count)+img[0][-4:])\n",
    "    elif 'XR_SHOULDER' in img[0]:\n",
    "        path =  './data/Train/XR_SHOULDER/'+label+'/'\n",
    "        copy('./data/'+img[0], path+'XR_SHOULDER'+'_'+str(count)+img[0][-4:])\n",
    "    elif 'XR_WRIST' in img[0]:\n",
    "        path = './data/Train/XR_WRIST/'+label+'/'\n",
    "        copy('./data/'+img[0], path+'XR_WRIST'+'_'+str(count)+img[0][-4:])\n",
    "    else:\n",
    "        print(img[0])\n",
    "    count = count+1"
   ]
  },
  {
   "cell_type": "code",
   "execution_count": 9,
   "metadata": {},
   "outputs": [
    {
     "data": {
      "text/plain": [
       "36808"
      ]
     },
     "execution_count": 9,
     "metadata": {},
     "output_type": "execute_result"
    }
   ],
   "source": [
    "len(images_train)"
   ]
  },
  {
   "cell_type": "code",
   "execution_count": 11,
   "metadata": {},
   "outputs": [
    {
     "data": {
      "text/plain": [
       "13457"
      ]
     },
     "execution_count": 11,
     "metadata": {},
     "output_type": "execute_result"
    }
   ],
   "source": [
    "8280+5177"
   ]
  },
  {
   "cell_type": "code",
   "execution_count": 15,
   "metadata": {},
   "outputs": [
    {
     "data": {
      "text/plain": [
       "8.180949781659388"
      ]
     },
     "execution_count": 15,
     "metadata": {},
     "output_type": "execute_result"
    }
   ],
   "source": [
    "(1199*100)/14656"
   ]
  },
  {
   "cell_type": "code",
   "execution_count": null,
   "metadata": {},
   "outputs": [],
   "source": []
  }
 ],
 "metadata": {
  "kernelspec": {
   "display_name": "Python 3",
   "language": "python",
   "name": "python3"
  },
  "language_info": {
   "codemirror_mode": {
    "name": "ipython",
    "version": 3
   },
   "file_extension": ".py",
   "mimetype": "text/x-python",
   "name": "python",
   "nbconvert_exporter": "python",
   "pygments_lexer": "ipython3",
   "version": "3.7.1"
  }
 },
 "nbformat": 4,
 "nbformat_minor": 2
}
