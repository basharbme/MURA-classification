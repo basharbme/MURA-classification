{
 "cells": [
  {
   "cell_type": "markdown",
   "metadata": {},
   "source": [
    "# 03 - Split train and validation\n",
    "The goal os this notebook is to split the dataset in train and validation sets, from images of bags which already has background images."
   ]
  },
  {
   "cell_type": "markdown",
   "metadata": {},
   "source": [
    "## requirements:\n",
    "    * The valid path from step 02\n",
    "## action\n",
    "    * Create folders in another path and throw the images after division "
   ]
  },
  {
   "cell_type": "markdown",
   "metadata": {},
   "source": [
    "###### Libs required:"
   ]
  },
  {
   "cell_type": "code",
   "execution_count": 1,
   "metadata": {},
   "outputs": [],
   "source": [
    "import cv2\n",
    "import shutil\n",
    "import random\n",
    "import numpy as np\n",
    "import os, glob, errno\n",
    "\n",
    "#from keras.preprocessing.image import ImageDataGenerator, array_to_img, img_to_array, load_img\n",
    "#from matplotlib import pyplot as plt"
   ]
  },
  {
   "cell_type": "markdown",
   "metadata": {},
   "source": [
    "Setting some paths:"
   ]
  },
  {
   "cell_type": "code",
   "execution_count": 2,
   "metadata": {},
   "outputs": [],
   "source": [
    "# general path\n",
    "general_path = \"/home/leodecio/workspace/MURA/data/\"\n",
    "source_path = \"/home/leodecio/workspace/MURA/data/Train/\"\n",
    "\n",
    "# path from step 02\n",
    "name = 'XR_WRIST'\n",
    "path_images = name+\"/\"\n",
    "\n",
    "#output path to train\n",
    "output_train = \"split/train_split/\"\n",
    "\n",
    "# output path to validation\n",
    "output_val = \"split/val_split/\""
   ]
  },
  {
   "cell_type": "markdown",
   "metadata": {},
   "source": [
    "Auxiliar function:"
   ]
  },
  {
   "cell_type": "code",
   "execution_count": 3,
   "metadata": {},
   "outputs": [],
   "source": [
    "## set an aux dict to save the label of the class and the url to the image\n",
    "dicionario = {}"
   ]
  },
  {
   "cell_type": "code",
   "execution_count": 4,
   "metadata": {},
   "outputs": [],
   "source": [
    "def getImageUrl(diretorio_usuario, diretorio, vetor, pasta):\n",
    "    if os.path.isdir(diretorio_usuario + diretorio):\n",
    "        os.chdir(diretorio_usuario + diretorio)\n",
    "        for arquivo in glob.glob(\"*\"):\n",
    "            if os.path.isdir(diretorio_usuario+diretorio+arquivo):\n",
    "                dicionario[arquivo] = []\n",
    "                getImageUrl(diretorio_usuario, diretorio+arquivo+'/',vetor, arquivo)\n",
    "            else:\n",
    "                if((arquivo).endswith(\".jpg\") or (arquivo).endswith(\".png\") or (arquivo).endswith(\".jpeg\")):\n",
    "                    dicionario[pasta].append(diretorio_usuario+diretorio+arquivo)"
   ]
  },
  {
   "cell_type": "code",
   "execution_count": 5,
   "metadata": {},
   "outputs": [],
   "source": [
    "getImageUrl(source_path, path_images, [], \"\")"
   ]
  },
  {
   "cell_type": "markdown",
   "metadata": {},
   "source": [
    "For each kind of bags(label), create a folder to store the correspondent's images"
   ]
  },
  {
   "cell_type": "code",
   "execution_count": 6,
   "metadata": {},
   "outputs": [],
   "source": [
    "for folder in dicionario.keys():\n",
    "    try:\n",
    "        os.mkdir(general_path+output_train+path_images+folder)\n",
    "        os.mkdir(general_path+output_val+path_images+folder)\n",
    "    except OSError as e:\n",
    "        if e.errno == errno.EEXIST:\n",
    "            print(\"Directory\", folder, \"Already exist\")\n",
    "        else:\n",
    "            raise"
   ]
  },
  {
   "cell_type": "code",
   "execution_count": 7,
   "metadata": {},
   "outputs": [],
   "source": [
    "for folder, images in dicionario.items():\n",
    "    n_images = len(images)\n",
    "    n_train = int(np.floor(n_images * 0.8)) # 80% train\n",
    "    n_val = int(n_images - n_train) # 20% val\n",
    "    \n",
    "    temp = np.arange(n_images) \n",
    "    np.random.shuffle(temp)\n",
    "    idx_train = temp[:n_train]\n",
    "    idx_val = temp[n_train:]\n",
    "       \n",
    "    for a in idx_train:\n",
    "        shutil.copy(images[a], general_path+output_train+path_images+folder+'/')\n",
    "    for a in idx_val:\n",
    "        shutil.copy(images[a], general_path+output_val+path_images+folder+'/')"
   ]
  },
  {
   "cell_type": "code",
   "execution_count": null,
   "metadata": {},
   "outputs": [],
   "source": []
  }
 ],
 "metadata": {
  "kernelspec": {
   "display_name": "Python 3",
   "language": "python",
   "name": "python3"
  },
  "language_info": {
   "codemirror_mode": {
    "name": "ipython",
    "version": 3
   },
   "file_extension": ".py",
   "mimetype": "text/x-python",
   "name": "python",
   "nbconvert_exporter": "python",
   "pygments_lexer": "ipython3",
   "version": "3.7.1"
  },
  "toc": {
   "base_numbering": 1,
   "nav_menu": {},
   "number_sections": true,
   "sideBar": true,
   "skip_h1_title": false,
   "title_cell": "Table of Contents",
   "title_sidebar": "Contents",
   "toc_cell": false,
   "toc_position": {},
   "toc_section_display": true,
   "toc_window_display": false
  }
 },
 "nbformat": 4,
 "nbformat_minor": 2
}
